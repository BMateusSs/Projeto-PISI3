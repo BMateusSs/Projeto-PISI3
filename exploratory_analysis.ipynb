{
 "cells": [
  {
   "metadata": {
    "ExecuteTime": {
     "end_time": "2025-05-14T13:05:16.957413Z",
     "start_time": "2025-05-14T13:05:16.950808Z"
    }
   },
   "cell_type": "code",
   "source": "print(\"hello\")",
   "id": "d3e777fc318e6214",
   "outputs": [
    {
     "name": "stdout",
     "output_type": "stream",
     "text": [
      "hello\n"
     ]
    }
   ],
   "execution_count": 1
  }
 ],
 "metadata": {},
 "nbformat": 4,
 "nbformat_minor": 5
}
